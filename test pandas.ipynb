{
 "cells": [
  {
   "cell_type": "code",
   "execution_count": 1,
   "id": "b3045ae3-bf25-4e47-a229-27b460c4c6ff",
   "metadata": {},
   "outputs": [],
   "source": [
    "import pandas as pd\n"
   ]
  },
  {
   "cell_type": "code",
   "execution_count": 9,
   "id": "8eaee020-021d-45b2-8ebb-7c8e0f09ff86",
   "metadata": {},
   "outputs": [],
   "source": [
    "url= 'https://www.4icu.org/vn/'"
   ]
  },
  {
   "cell_type": "code",
   "execution_count": 10,
   "id": "48416e96-5bdf-4746-bbbe-b1b79f0fae37",
   "metadata": {},
   "outputs": [
    {
     "name": "stdout",
     "output_type": "stream",
     "text": [
      "[                  #Rank                                  University  \\\n",
      "0                     1          Vietnam National University, Hanoi   \n",
      "1                     2                   The University of Da nang   \n",
      "2                     3   Ho Chi Minh City University of Technology   \n",
      "3                     4  Hanoi University of Science and Technology   \n",
      "4                     5                          Can Tho University   \n",
      "..                  ...                                         ...   \n",
      "70                   71            Dong Do International University   \n",
      "71                   72                         Bac Lieu University   \n",
      "72                   73    Hanoi University of Industrial Fine Arts   \n",
      "73                   74                     University of Hai Duong   \n",
      "74  Legend: Un Unranked                         Legend: Un Unranked   \n",
      "\n",
      "                Town  \n",
      "0              Hanoi  \n",
      "1        Da Nang ...  \n",
      "2   Ho Chi Minh City  \n",
      "3              Hanoi  \n",
      "4        Can Tho ...  \n",
      "..               ...  \n",
      "70             Hanoi  \n",
      "71          Bac Lieu  \n",
      "72             Hanoi  \n",
      "73         Hai Duong  \n",
      "74  + Add University  \n",
      "\n",
      "[75 rows x 3 columns]]\n"
     ]
    }
   ],
   "source": [
    "dfs= pd.read_html(url)\n",
    "print(dfs)"
   ]
  },
  {
   "cell_type": "code",
   "execution_count": 12,
   "id": "ae2c77cc-7bc3-4608-bb49-403ed13cc376",
   "metadata": {},
   "outputs": [],
   "source": [
    "\n",
    "desired_table = dfs[0]\n"
   ]
  },
  {
   "cell_type": "code",
   "execution_count": null,
   "id": "3173130a-0d7b-4935-ad3a-d96902379680",
   "metadata": {},
   "outputs": [],
   "source": []
  },
  {
   "cell_type": "code",
   "execution_count": 13,
   "id": "b7ffb420-c0d1-4cee-86f2-1b9aba89476f",
   "metadata": {},
   "outputs": [],
   "source": [
    "desired_table.to_csv(r'D:\\DataAnalystBootcamp\\Python Tutorial\\Rank_University_VietNam.csv', index=False)\n"
   ]
  },
  {
   "cell_type": "code",
   "execution_count": null,
   "id": "74c585e5-6716-4eab-a966-9a429d4916a5",
   "metadata": {},
   "outputs": [],
   "source": []
  },
  {
   "cell_type": "code",
   "execution_count": null,
   "id": "e2dff6ea-8d5f-49b0-bd56-633d1c1053f3",
   "metadata": {},
   "outputs": [],
   "source": []
  }
 ],
 "metadata": {
  "kernelspec": {
   "display_name": "Python 3 (ipykernel)",
   "language": "python",
   "name": "python3"
  },
  "language_info": {
   "codemirror_mode": {
    "name": "ipython",
    "version": 3
   },
   "file_extension": ".py",
   "mimetype": "text/x-python",
   "name": "python",
   "nbconvert_exporter": "python",
   "pygments_lexer": "ipython3",
   "version": "3.11.7"
  }
 },
 "nbformat": 4,
 "nbformat_minor": 5
}
